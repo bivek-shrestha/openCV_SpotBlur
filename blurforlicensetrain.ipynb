{
  "nbformat": 4,
  "nbformat_minor": 0,
  "metadata": {
    "colab": {
      "provenance": [],
      "include_colab_link": true
    },
    "kernelspec": {
      "name": "python3",
      "display_name": "Python 3"
    },
    "language_info": {
      "name": "python"
    }
  },
  "cells": [
    {
      "cell_type": "markdown",
      "metadata": {
        "id": "view-in-github",
        "colab_type": "text"
      },
      "source": [
        "<a href=\"https://colab.research.google.com/github/bivek-shrestha/openCV_SpotBlur/blob/main/blurforlicensetrain.ipynb\" target=\"_parent\"><img src=\"https://colab.research.google.com/assets/colab-badge.svg\" alt=\"Open In Colab\"/></a>"
      ]
    },
    {
      "cell_type": "code",
      "source": [
        "from google.colab import drive\n",
        "drive.flush_and_unmount()\n",
        "#drive.mount('/content/drive')\n",
        "!rm -rf /content/drive/*"
      ],
      "metadata": {
        "colab": {
          "base_uri": "https://localhost:8080/"
        },
        "id": "ZjWyN2fY97cy",
        "outputId": "56b1d624-b1d0-42d7-8a64-e9678238c823"
      },
      "execution_count": null,
      "outputs": [
        {
          "output_type": "stream",
          "name": "stdout",
          "text": [
            "Drive not mounted, so nothing to flush and unmount.\n"
          ]
        }
      ]
    },
    {
      "cell_type": "code",
      "source": [
        "from google.colab import drive\n",
        "drive.mount('/content/drive')"
      ],
      "metadata": {
        "colab": {
          "base_uri": "https://localhost:8080/"
        },
        "id": "-mYq8V6lmW5I",
        "outputId": "9bfbdc8c-b0a5-4799-fa42-9aad1b8564c4"
      },
      "execution_count": 3,
      "outputs": [
        {
          "output_type": "stream",
          "name": "stdout",
          "text": [
            "Mounted at /content/drive\n"
          ]
        }
      ]
    },
    {
      "cell_type": "code",
      "source": [
        "import cv2 as cv\n",
        "import os\n",
        "import matplotlib.pyplot as plt\n",
        "\n",
        "import numpy as np\n",
        "import random\n",
        "\n",
        "\n",
        "# Specify the path to the folder containing your images\n",
        "folder_path = '/content/drive/MyDrive/imagedatatoblur'\n",
        "output_folder = '/content/drive/MyDrive/blurredimages'\n",
        "os.makedirs(folder_path, exist_ok=True)\n",
        "os.makedirs(output_folder, exist_ok=True)\n",
        "# List all files in the folder\n",
        "image_files = [f for f in os.listdir(folder_path) if f.lower().endswith(('.png', '.jpg', '.jpeg', '.gif', '.bmp'))]\n",
        "\n",
        "# Loop through each image file\n",
        "for image_file in image_files:\n",
        "    # Construct the full path to the image\n",
        "    image_path = os.path.join(folder_path, image_file)\n",
        "    output_image_path = os.path.join(output_folder, image_file)\n",
        "    a=random.randint(20,60)\n",
        "    b=random.randint(20,60)\n",
        "    r=random.randint(140,390)\n",
        "    s=random.randint(140,190)\n",
        "\n",
        "\n",
        "    # Read the image using OpenCV\n",
        "    img = cv.imread(image_path)\n",
        "    h, w, c = img.shape\n",
        "    print('width:  ', w)\n",
        "    print('height: ', h)\n",
        "    print('channel:', c)\n",
        "    #cv.rectangle(img,(a,b),(a+r+60,b+s+60),(0),0)#a is width and b is height\n",
        "    roi = img[b:b+s, a:a+r]\n",
        "    plt.imshow(roi)\n",
        "    #cv.imshow('Image', img)\n",
        "    median = cv.medianBlur(roi,9)\n",
        "    img[b:b+roi.shape[0], a:a+roi.shape[1]] = median\n",
        "    plt.imshow(img)\n",
        "    cv.imwrite(output_image_path,img)\n",
        "\n",
        "\n",
        "    # Wait for a key press (optional, you can remove this line if not needed)\n",
        "    cv.waitKey(0)\n",
        "\n",
        "    # Close the displayed window\n",
        "    cv.destroyAllWindows()\n",
        "\n",
        "    # Optionally, you can assign the image to a variable for further processing\n",
        "    # For example, you can perform some image processing operations on 'img' variable\n",
        "\n",
        "# Release resources\n",
        "cv.destroyAllWindows()\n"
      ],
      "metadata": {
        "id": "8X0d9Nhm_Fa3"
      },
      "execution_count": 4,
      "outputs": []
    },
    {
      "cell_type": "code",
      "execution_count": null,
      "metadata": {
        "id": "7T4obLIO9PFw"
      },
      "outputs": [],
      "source": []
    },
    {
      "cell_type": "code",
      "source": [
        "\n"
      ],
      "metadata": {
        "id": "bs7zB8A69VYI"
      },
      "execution_count": null,
      "outputs": []
    }
  ]
}